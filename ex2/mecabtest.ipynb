{
 "cells": [
  {
   "cell_type": "code",
   "execution_count": 23,
   "metadata": {
    "collapsed": true
   },
   "outputs": [],
   "source": [
    "import MeCab\n",
    "import sys\n",
    "import collections"
   ]
  },
  {
   "cell_type": "code",
   "execution_count": 25,
   "metadata": {
    "collapsed": false
   },
   "outputs": [],
   "source": [
    "#mecab = MeCab.Tagger('-d /usr/local/lib/mecab/dic/mecab-ipadic-neologd/')\n",
    "mecab = MeCab.Tagger('mecabrc')\n",
    "\n",
    "text = open('doc001.txt').read()"
   ]
  },
  {
   "cell_type": "code",
   "execution_count": 26,
   "metadata": {
    "collapsed": false
   },
   "outputs": [
    {
     "name": "stdout",
     "output_type": "stream",
     "text": [
      "谷口 1\n",
      "後 1\n",
      "石田 1\n",
      "莉乃 1\n",
      "投稿 1\n",
      "姉妹 1\n",
      "広島 2\n",
      "グループ 3\n",
      "あいさつ 1\n",
      "キング 1\n",
      "考え 1\n",
      "瀬戸内 3\n",
      "今後 1\n",
      "交流 1\n",
      "未定 1\n",
      "イベント 1\n",
      "四国 1\n",
      "インターネット 1\n",
      "組 1\n",
      "福田 1\n",
      "６ 3\n",
      "入り 3\n",
      "５ 1\n",
      "みなみ 1\n",
      "瀧 3\n",
      "７ 3\n",
      "曲 3\n",
      "９ 3\n",
      "涙 2\n",
      "由美子 1\n",
      "８ 8\n",
      "三島 1\n",
      "チャンス 1\n",
      "初 2\n",
      "ＡＫＢ 2\n",
      "相談 1\n",
      "兵庫 1\n",
      "オリジナル 1\n",
      "沿岸 1\n",
      "３ 1\n",
      "センター 3\n",
      "人 5\n",
      "茉妃 1\n",
      "アイドル 1\n",
      "タイトル 1\n",
      "レコード 1\n",
      "参加 3\n",
      "若手 1\n",
      "発表 3\n",
      "無駄 1\n",
      "朱里 1\n",
      "選抜 9\n",
      "カ月 1\n",
      "こと 2\n",
      "今村 1\n",
      "サービス 1\n",
      "菜 1\n",
      "ＳＴＵ 3\n",
      "入れ替え 1\n",
      "奈々 1\n",
      "遥香 1\n",
      "苦手 1\n",
      "今回 2\n",
      "支配人 1\n",
      "発売 1\n",
      "自分 1\n",
      "岡田 1\n",
      "国内 1\n",
      "県 2\n",
      "期間 1\n",
      "ＳＨＯＷＲＯＯＭ 1\n",
      "デビュー 4\n",
      "上 1\n",
      "美月 1\n",
      "中 1\n",
      "配信 1\n",
      "お披露目 1\n",
      "１１月 1\n",
      "劇場 1\n",
      "ツイッター 1\n",
      "動画 1\n",
      "みんな 2\n",
      "香川 1\n",
      "声 3\n",
      "野 3\n",
      "辞退 1\n",
      "結成 1\n",
      "お話 1\n",
      "よう 1\n",
      "３月 1\n",
      "メジャー 1\n",
      "出身 5\n",
      "２ 2\n",
      "４ 7\n",
      "キャプテン 1\n",
      "日 3\n",
      "時 1\n",
      "メンバー 8\n",
      "瀬戸内海 1\n",
      "徳島 2\n",
      "ら 2\n",
      "さん 11\n",
      "指原 2\n",
      "本拠地 1\n",
      "ほか 1\n",
      "ダンス 1\n",
      "期待 1\n",
      "５月 1\n",
      "１ 9\n",
      "歌 1\n",
      "注目 1\n"
     ]
    }
   ],
   "source": [
    "noun_list = [] # 重複を含めた名詞のリスト\n",
    "for l in mecab.parse(text).splitlines():\n",
    "    if l != 'EOS' and l.split('\\t')[1].split(',')[0] == '名詞': # EOSを除き名詞のみ抽出\n",
    "        noun_list.append(l.split('\\t')[0]) # 見出し追加\n",
    "\n",
    "noun_cnt = collections.Counter(noun_list) # 各名詞の数え上げ\n",
    "\n",
    "for word, cnt in noun_cnt.items():\n",
    "    print(word, cnt)"
   ]
  },
  {
   "cell_type": "code",
   "execution_count": null,
   "metadata": {
    "collapsed": false
   },
   "outputs": [],
   "source": []
  },
  {
   "cell_type": "code",
   "execution_count": null,
   "metadata": {
    "collapsed": true
   },
   "outputs": [],
   "source": []
  }
 ],
 "metadata": {
  "anaconda-cloud": {},
  "kernelspec": {
   "display_name": "Python [default]",
   "language": "python",
   "name": "python3"
  },
  "language_info": {
   "codemirror_mode": {
    "name": "ipython",
    "version": 3
   },
   "file_extension": ".py",
   "mimetype": "text/x-python",
   "name": "python",
   "nbconvert_exporter": "python",
   "pygments_lexer": "ipython3",
   "version": "3.5.2"
  }
 },
 "nbformat": 4,
 "nbformat_minor": 1
}
