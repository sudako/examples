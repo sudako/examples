{
 "cells": [
  {
   "cell_type": "code",
   "execution_count": 1,
   "metadata": {
    "collapsed": true
   },
   "outputs": [],
   "source": [
    "import MeCab\n",
    "import sys\n",
    "import collections\n",
    "from gensim import corpora, matutils"
   ]
  },
  {
   "cell_type": "code",
   "execution_count": 2,
   "metadata": {
    "collapsed": true
   },
   "outputs": [],
   "source": [
    "#mecab = MeCab.Tagger('-d /usr/local/lib/mecab/dic/mecab-ipadic-neologd/')\n",
    "mecab = MeCab.Tagger('mecabrc')\n",
    "text = open('doc001.txt').read()"
   ]
  },
  {
   "cell_type": "code",
   "execution_count": 3,
   "metadata": {
    "collapsed": true
   },
   "outputs": [],
   "source": [
    "noun_list = [] # 重複を含めた名詞のリスト\n",
    "for l in mecab.parse(text).splitlines():\n",
    "    if l != 'EOS' and l.split('\\t')[1].split(',')[0] == '名詞': # EOSを除き名詞のみ抽出\n",
    "        noun_list.append(l.split('\\t')[0]) # 見出し追加"
   ]
  },
  {
   "cell_type": "code",
   "execution_count": 4,
   "metadata": {
    "collapsed": false
   },
   "outputs": [
    {
     "name": "stdout",
     "output_type": "stream",
     "text": [
      "{'アイドル': 0, 'メンバー': 1, 'ほか': 2, 'みんな': 17, '上': 4, '歌': 5, '相談': 6, '遥香': 7, 'イベント': 8, '菜': 9, '２': 10, 'タイトル': 11, '５': 12, '３': 92, 'ＳＨＯＷＲＯＯＭ': 20, '４': 15, 'レコード': 16, '注目': 3, '考え': 18, 'キング': 19, '広島': 14, '組': 21, 'キャプテン': 22, '動画': 23, '徳島': 24, '沿岸': 25, 'ＡＫＢ': 26, '岡田': 27, 'お話': 28, '今後': 29, '１': 30, '朱里': 31, '谷口': 32, '野': 33, '人': 34, 'お披露目': 55, 'よう': 36, '兵庫': 37, '発売': 60, '参加': 39, '初': 42, '今回': 41, '期間': 95, '入れ替え': 44, 'デビュー': 45, '中': 46, '日': 97, 'ＳＴＵ': 107, '無駄': 66, '入り': 48, 'サービス': 49, '美月': 50, '時': 51, '発表': 52, '瀬戸内': 53, '５月': 54, 'こと': 56, '配信': 57, '自分': 58, '指原': 59, '出身': 61, 'センター': 62, '９': 63, 'さん': 64, '瀬戸内海': 65, 'ら': 47, '今村': 67, '後': 68, '結成': 69, 'ダンス': 84, 'みなみ': 71, '８': 72, '国内': 73, '莉乃': 74, '香川': 75, '石田': 76, '３月': 77, '劇場': 78, 'チャンス': 79, '辞退': 80, '瀧': 81, '選抜': 82, '姉妹': 35, '由美子': 70, '涙': 85, 'インターネット': 110, '苦手': 86, '未定': 87, '交流': 88, '期待': 89, '三島': 90, '福田': 91, '投稿': 13, '四国': 94, '本拠地': 43, 'メジャー': 96, 'オリジナル': 38, '奈々': 98, 'グループ': 99, '若手': 100, 'あいさつ': 101, '茉妃': 102, '県': 83, '曲': 103, '６': 104, 'カ月': 105, '１１月': 106, '支配人': 93, '声': 108, '７': 109, 'ツイッター': 40}\n"
     ]
    }
   ],
   "source": [
    "words = [noun_list]\n",
    "dictionary = corpora.Dictionary([noun_list])\n",
    "print(dictionary.token2id)"
   ]
  },
  {
   "cell_type": "code",
   "execution_count": 36,
   "metadata": {
    "collapsed": false
   },
   "outputs": [],
   "source": [
    "tmp = dictionary.doc2bow(noun_list)"
   ]
  },
  {
   "cell_type": "code",
   "execution_count": 37,
   "metadata": {
    "collapsed": false
   },
   "outputs": [
    {
     "name": "stdout",
     "output_type": "stream",
     "text": [
      "[1.0, 1.0, 1.0, 2.0, 11.0, 1.0, 1.0, 2.0, 1.0, 2.0, 1.0, 1.0, 1.0, 1.0, 1.0, 1.0, 1.0, 3.0, 1.0, 3.0, 1.0, 1.0, 1.0, 1.0, 4.0, 1.0, 8.0, 1.0, 1.0, 1.0, 1.0, 1.0, 5.0, 2.0, 1.0, 1.0, 3.0, 1.0, 1.0, 5.0, 2.0, 1.0, 1.0, 3.0, 1.0, 1.0, 3.0, 1.0, 1.0, 1.0, 2.0, 1.0, 2.0, 1.0, 2.0, 1.0, 3.0, 1.0, 3.0, 1.0, 1.0, 1.0, 1.0, 1.0, 1.0, 1.0, 1.0, 2.0, 3.0, 3.0, 1.0, 1.0, 1.0, 1.0, 3.0, 1.0, 2.0, 1.0, 1.0, 1.0, 1.0, 1.0, 1.0, 1.0, 1.0, 1.0, 1.0, 1.0, 1.0, 1.0, 1.0, 1.0, 9.0, 1.0, 3.0, 1.0, 9.0, 1.0, 2.0, 1.0, 1.0, 7.0, 1.0, 1.0, 3.0, 3.0, 8.0, 3.0, 2.0, 1.0, 3.0]\n"
     ]
    }
   ],
   "source": [
    "dense = list(matutils.corpus2dense([tmp], num_terms=len(dictionary)).T[0])\n",
    "print(dense)"
   ]
  },
  {
   "cell_type": "code",
   "execution_count": null,
   "metadata": {
    "collapsed": true
   },
   "outputs": [],
   "source": []
  }
 ],
 "metadata": {
  "anaconda-cloud": {},
  "kernelspec": {
   "display_name": "Python [default]",
   "language": "python",
   "name": "python3"
  },
  "language_info": {
   "codemirror_mode": {
    "name": "ipython",
    "version": 3
   },
   "file_extension": ".py",
   "mimetype": "text/x-python",
   "name": "python",
   "nbconvert_exporter": "python",
   "pygments_lexer": "ipython3",
   "version": "3.5.2"
  }
 },
 "nbformat": 4,
 "nbformat_minor": 1
}
